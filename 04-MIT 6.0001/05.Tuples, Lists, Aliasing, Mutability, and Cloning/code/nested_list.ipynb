{
 "cells": [
  {
   "cell_type": "code",
   "execution_count": 1,
   "metadata": {},
   "outputs": [
    {
     "name": "stdout",
     "output_type": "stream",
     "text": [
      "[['yello', 'orange'], ['red']]\n",
      "['red', 'pink']\n",
      "[['yello', 'orange'], ['red', 'pink']]\n"
     ]
    }
   ],
   "source": [
    "warm = ['yello', 'orange']\n",
    "hot = ['red']\n",
    "\n",
    "brightcolors = [warm]\n",
    "brightcolors.append(hot)\n",
    "\n",
    "print(brightcolors)\n",
    "\n",
    "hot.append('pink')\n",
    "print(hot)\n",
    "\n",
    "print(brightcolors)"
   ]
  }
 ],
 "metadata": {
  "kernelspec": {
   "display_name": "Python 3",
   "language": "python",
   "name": "python3"
  },
  "language_info": {
   "codemirror_mode": {
    "name": "ipython",
    "version": 3
   },
   "file_extension": ".py",
   "mimetype": "text/x-python",
   "name": "python",
   "nbconvert_exporter": "python",
   "pygments_lexer": "ipython3",
   "version": "3.9.6"
  },
  "orig_nbformat": 4
 },
 "nbformat": 4,
 "nbformat_minor": 2
}
