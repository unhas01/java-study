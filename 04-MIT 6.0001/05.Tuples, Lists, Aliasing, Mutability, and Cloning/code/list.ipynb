{
 "cells": [
  {
   "cell_type": "code",
   "execution_count": 1,
   "metadata": {},
   "outputs": [],
   "source": [
    "a_list = [] # 대괄호로 선언"
   ]
  },
  {
   "cell_type": "code",
   "execution_count": 3,
   "metadata": {},
   "outputs": [
    {
     "name": "stdout",
     "output_type": "stream",
     "text": [
      "4\n",
      "[1, 2]\n"
     ]
    }
   ],
   "source": [
    "L = [2, 'a', 4, [1, 2]]\n",
    "print(len(L))\n",
    "print(L[3])"
   ]
  },
  {
   "cell_type": "code",
   "execution_count": 4,
   "metadata": {},
   "outputs": [
    {
     "ename": "IndexError",
     "evalue": "list index out of range",
     "output_type": "error",
     "traceback": [
      "\u001b[0;31m---------------------------------------------------------------------------\u001b[0m",
      "\u001b[0;31mIndexError\u001b[0m                                Traceback (most recent call last)",
      "\u001b[1;32m/Users/baggyeongseo/Desktop/4th/nhn-4th-study/04-MIT 6.0001/05.Tuples, Lists, Aliasing, Mutability, and Cloning/code/list.ipynb Cell 3\u001b[0m line \u001b[0;36m1\n\u001b[0;32m----> <a href='vscode-notebook-cell:/Users/baggyeongseo/Desktop/4th/nhn-4th-study/04-MIT%206.0001/05.Tuples%2C%20Lists%2C%20Aliasing%2C%20Mutability%2C%20and%20Cloning/code/list.ipynb#W2sZmlsZQ%3D%3D?line=0'>1</a>\u001b[0m L[\u001b[39m4\u001b[39;49m]\n",
      "\u001b[0;31mIndexError\u001b[0m: list index out of range"
     ]
    }
   ],
   "source": [
    "L[4]"
   ]
  },
  {
   "cell_type": "code",
   "execution_count": 2,
   "metadata": {},
   "outputs": [
    {
     "name": "stdout",
     "output_type": "stream",
     "text": [
      "[2, 1, 3, 0, 6]\n"
     ]
    }
   ],
   "source": [
    "L1 = [2,1,3]\n",
    "L2 = [4,5,6]\n",
    "L3 = L1 + L2\n",
    "\n",
    "L1.extend([0, 6])\n",
    "print(L1)"
   ]
  }
 ],
 "metadata": {
  "kernelspec": {
   "display_name": "Python 3",
   "language": "python",
   "name": "python3"
  },
  "language_info": {
   "codemirror_mode": {
    "name": "ipython",
    "version": 3
   },
   "file_extension": ".py",
   "mimetype": "text/x-python",
   "name": "python",
   "nbconvert_exporter": "python",
   "pygments_lexer": "ipython3",
   "version": "3.9.6"
  },
  "orig_nbformat": 4
 },
 "nbformat": 4,
 "nbformat_minor": 2
}
