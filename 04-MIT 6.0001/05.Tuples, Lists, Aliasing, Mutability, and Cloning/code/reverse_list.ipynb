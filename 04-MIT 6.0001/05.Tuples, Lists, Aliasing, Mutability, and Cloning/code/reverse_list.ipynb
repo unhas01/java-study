{
 "cells": [
  {
   "cell_type": "code",
   "execution_count": 1,
   "metadata": {},
   "outputs": [
    {
     "name": "stdout",
     "output_type": "stream",
     "text": [
      "[9, 6, 0, 3]\n",
      "[0, 3, 6, 9]\n"
     ]
    }
   ],
   "source": [
    "L = [9, 6, 0, 3]\n",
    "L2 = sorted(L)       # 정렬된 버전으로 대체\n",
    "print(L)             # L은 변함이 없다.\n",
    "print(L2)"
   ]
  },
  {
   "cell_type": "code",
   "execution_count": 9,
   "metadata": {},
   "outputs": [
    {
     "name": "stdout",
     "output_type": "stream",
     "text": [
      "None\n",
      "[0, 3, 6, 9]\n",
      "None\n",
      "[9, 6, 3, 0]\n"
     ]
    }
   ],
   "source": [
    "L = [9, 6, 0, 3]\n",
    "print(L.sort())     \n",
    "print(L)\n",
    "\n",
    "print(L.reverse())\n",
    "print(L)\n"
   ]
  }
 ],
 "metadata": {
  "kernelspec": {
   "display_name": "Python 3",
   "language": "python",
   "name": "python3"
  },
  "language_info": {
   "codemirror_mode": {
    "name": "ipython",
    "version": 3
   },
   "file_extension": ".py",
   "mimetype": "text/x-python",
   "name": "python",
   "nbconvert_exporter": "python",
   "pygments_lexer": "ipython3",
   "version": "3.9.6"
  },
  "orig_nbformat": 4
 },
 "nbformat": 4,
 "nbformat_minor": 2
}
