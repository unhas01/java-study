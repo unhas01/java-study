{
 "cells": [
  {
   "cell_type": "markdown",
   "metadata": {},
   "source": [
    "## 이분 탐색"
   ]
  },
  {
   "cell_type": "code",
   "execution_count": 5,
   "metadata": {},
   "outputs": [
    {
     "name": "stdout",
     "output_type": "stream",
     "text": [
      "num_guesses = 14\n",
      "3.000091552734375 is close to the cube root of 27\n"
     ]
    }
   ],
   "source": [
    "cube = 27\n",
    "#cube = 8120601\n",
    "# won't work with x < 1 because initial upper bound is less than ans\n",
    "#cube = 0.25\n",
    "epsilon = 0.01\n",
    "num_guesses = 0\n",
    "low = 0\n",
    "high = cube\n",
    "guess = (high + low)/2.0\n",
    "while abs(guess**3 - cube) >= epsilon:\n",
    "   if guess**3 < cube:\n",
    "       # look only in upper half search space\n",
    "       low = guess\n",
    "   else:\n",
    "       # look only in lower half search space\n",
    "       high = guess\n",
    "   # next guess is halfway in search space\n",
    "   guess = (high + low)/2.0\n",
    "   num_guesses += 1\n",
    "print('num_guesses =', num_guesses)\n",
    "print(guess, 'is close to the cube root of', cube)"
   ]
  }
 ],
 "metadata": {
  "kernelspec": {
   "display_name": "Python 3",
   "language": "python",
   "name": "python3"
  },
  "language_info": {
   "codemirror_mode": {
    "name": "ipython",
    "version": 3
   },
   "file_extension": ".py",
   "mimetype": "text/x-python",
   "name": "python",
   "nbconvert_exporter": "python",
   "pygments_lexer": "ipython3",
   "version": "3.9.6"
  },
  "orig_nbformat": 4
 },
 "nbformat": 4,
 "nbformat_minor": 2
}
