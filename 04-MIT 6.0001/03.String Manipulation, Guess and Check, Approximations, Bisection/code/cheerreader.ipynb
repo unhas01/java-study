{
 "cells": [
  {
   "cell_type": "markdown",
   "metadata": {},
   "source": [
    "## while 버전"
   ]
  },
  {
   "cell_type": "code",
   "execution_count": 2,
   "metadata": {},
   "outputs": [
    {
     "name": "stdout",
     "output_type": "stream",
     "text": [
      "Give me an R! R\n",
      "Give me an O! O\n",
      "Give me a  B! B\n",
      "Give me an O! O\n",
      "Give me a  T! T\n",
      "Give me an S! S\n",
      "What does that spell?\n",
      "ROBOTS !!!\n",
      "ROBOTS !!!\n",
      "ROBOTS !!!\n",
      "ROBOTS !!!\n",
      "ROBOTS !!!\n",
      "ROBOTS !!!\n"
     ]
    }
   ],
   "source": [
    "an_letters = \"aefhilmnorsxAEFHILMNORSX\"\n",
    "word = input(\"I will cheer for you! Enter a word: \")\n",
    "times = int(input(\"Enthusiasm level (1-10): \"))\n",
    "\n",
    "i = 0\n",
    "while i < len(word):\n",
    "   char = word[i]\n",
    "   if char in an_letters:\n",
    "       print(\"Give me an \" + char + \"! \" + char)\n",
    "   else:\n",
    "       print(\"Give me a  \" + char + \"! \" + char)\n",
    "   i += 1\n",
    "print(\"What does that spell?\")\n",
    "\n",
    "for i in range(times):\n",
    "   print(word, \"!!!\")"
   ]
  },
  {
   "cell_type": "markdown",
   "metadata": {},
   "source": [
    "## for 버전"
   ]
  },
  {
   "cell_type": "code",
   "execution_count": 3,
   "metadata": {},
   "outputs": [
    {
     "name": "stdout",
     "output_type": "stream",
     "text": [
      "Give me an R! R\n",
      "Give me an O! O\n",
      "Give me a  B! B\n",
      "Give me an O! O\n",
      "Give me a  T! T\n",
      "Give me an S! S\n",
      "What does that spell?\n",
      "ROBOTS !!!\n",
      "ROBOTS !!!\n",
      "ROBOTS !!!\n",
      "ROBOTS !!!\n",
      "ROBOTS !!!\n",
      "ROBOTS !!!\n",
      "ROBOTS !!!\n"
     ]
    }
   ],
   "source": [
    "an_letters = \"aefhilmnorsxAEFHILMNORSX\"\n",
    "word = input(\"I will cheer for you! Enter a word: \")\n",
    "times = int(input(\"Enthusiasm level (1-10): \"))\n",
    "\n",
    "i = 0\n",
    "for char in word:\n",
    "   if char in an_letters:\n",
    "       print(\"Give me an \" + char + \"! \" + char)\n",
    "   else:\n",
    "       print(\"Give me a  \" + char + \"! \" + char)\n",
    "   i += 1\n",
    "print(\"What does that spell?\")\n",
    "\n",
    "for i in range(times):\n",
    "   print(word, \"!!!\")"
   ]
  }
 ],
 "metadata": {
  "kernelspec": {
   "display_name": "Python 3",
   "language": "python",
   "name": "python3"
  },
  "language_info": {
   "codemirror_mode": {
    "name": "ipython",
    "version": 3
   },
   "file_extension": ".py",
   "mimetype": "text/x-python",
   "name": "python",
   "nbconvert_exporter": "python",
   "pygments_lexer": "ipython3",
   "version": "3.9.6"
  },
  "orig_nbformat": 4
 },
 "nbformat": 4,
 "nbformat_minor": 2
}
