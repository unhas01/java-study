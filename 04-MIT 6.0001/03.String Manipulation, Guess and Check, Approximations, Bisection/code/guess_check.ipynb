{
 "cells": [
  {
   "cell_type": "markdown",
   "metadata": {},
   "source": [
    "### 세제곱근을 구하는 문제\n",
    "\n",
    "- 이 코드는 사용자 친화적이지 않다.\n",
    "    - ex. 9의 세제곱근을 찾고 싶은 경우 아무 결과를 얻지 못한다.\n",
    "- **추측할 수 있는 경우엔 모두 print해야 한다. (print anything in the case of the guess)**"
   ]
  },
  {
   "cell_type": "code",
   "execution_count": 1,
   "metadata": {},
   "outputs": [
    {
     "name": "stdout",
     "output_type": "stream",
     "text": [
      "Cube root of 8 is 2\n"
     ]
    }
   ],
   "source": [
    "cube = 8\n",
    "for guess in range(cube+1):\n",
    "    if guess**3 == cube:\n",
    "        print(\"Cube root of\", cube, \"is\", guess)"
   ]
  },
  {
   "cell_type": "markdown",
   "metadata": {},
   "source": [
    "## 두 가지 기능 추가\n",
    "- 음수인 경우\n",
    "- 완벽한 큐브가 아닌경우 print "
   ]
  },
  {
   "cell_type": "code",
   "execution_count": 3,
   "metadata": {},
   "outputs": [
    {
     "name": "stdout",
     "output_type": "stream",
     "text": [
      "Cube root of 8 is 2\n"
     ]
    }
   ],
   "source": [
    "cube = 8\n",
    "for guess in range(abs(cube)+1):\n",
    "    if guess**3 >= abs(cube): # solution을 찾을 시 break\n",
    "        break   \n",
    "if guess**3 != abs(cube):\n",
    "    print(cube, 'is not a perfect cube')\n",
    "else:\n",
    "    if cube < 0:\n",
    "        guess = -guess\n",
    "    print('Cube root of '+str(cube)+' is '+str(guess))"
   ]
  }
 ],
 "metadata": {
  "kernelspec": {
   "display_name": "Python 3",
   "language": "python",
   "name": "python3"
  },
  "language_info": {
   "codemirror_mode": {
    "name": "ipython",
    "version": 3
   },
   "file_extension": ".py",
   "mimetype": "text/x-python",
   "name": "python",
   "nbconvert_exporter": "python",
   "pygments_lexer": "ipython3",
   "version": "3.9.6"
  },
  "orig_nbformat": 4
 },
 "nbformat": 4,
 "nbformat_minor": 2
}
