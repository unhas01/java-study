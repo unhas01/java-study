{
 "cells": [
  {
   "cell_type": "markdown",
   "metadata": {},
   "source": [
    "`except`에서 발생한 오류를 처리"
   ]
  },
  {
   "cell_type": "code",
   "execution_count": 2,
   "metadata": {},
   "outputs": [
    {
     "name": "stdout",
     "output_type": "stream",
     "text": [
      "Bug in user input.\n"
     ]
    }
   ],
   "source": [
    "try:\n",
    "    a = int(input(\"Tell me one number:\"))\n",
    "    b = int(input(\"Tell me another number:\"))\n",
    "    print(a/b)\n",
    "except:\n",
    "    print(\"Bug in user input.\")"
   ]
  },
  {
   "cell_type": "code",
   "execution_count": 1,
   "metadata": {},
   "outputs": [
    {
     "name": "stdout",
     "output_type": "stream",
     "text": [
      "Could not convert to a number.\n"
     ]
    }
   ],
   "source": [
    "try:\n",
    "    a = int(input(\"Tell me one number: \"))\n",
    "    b = int(input(\"Tell me another number: \"))\n",
    "    print(\"a/b = \", a/b)\n",
    "    print(\"a+b = \", a+b)\n",
    "except ValueError:\n",
    "    print(\"Could not convert to a number.\")\n",
    "except ZeroDivisionError:\n",
    "    print(\"Can't divide by zero\")\n",
    "except:\n",
    "    print(\"Something went very wrong.\")"
   ]
  }
 ],
 "metadata": {
  "kernelspec": {
   "display_name": "Python 3",
   "language": "python",
   "name": "python3"
  },
  "language_info": {
   "codemirror_mode": {
    "name": "ipython",
    "version": 3
   },
   "file_extension": ".py",
   "mimetype": "text/x-python",
   "name": "python",
   "nbconvert_exporter": "python",
   "pygments_lexer": "ipython3",
   "version": "3.9.6"
  },
  "orig_nbformat": 4
 },
 "nbformat": 4,
 "nbformat_minor": 2
}
